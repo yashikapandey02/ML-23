{
 "cells": [
  {
   "cell_type": "code",
   "execution_count": null,
   "id": "82747933",
   "metadata": {},
   "outputs": [],
   "source": [
    "1. What are the key reasons for reducing the dimensionality of a dataset? What are the major disadvantages ?\n",
    "\n",
    "Ans: Disadvantages of Dimensionality Reduction:\n",
    "\n",
    "It may lead to some amount of data loss.\n",
    "PCA tends to find linear correlations between variables, which is sometimes undesirable.\n",
    "PCA fails in cases where mean and covariance are not enough to define datasets."
   ]
  },
  {
   "cell_type": "code",
   "execution_count": null,
   "id": "e1798515",
   "metadata": {},
   "outputs": [],
   "source": [
    "2. What is the dimensionality curse ?\n",
    "\n",
    "Ans: The curse of dimensionality basically means that the error increases with the increase in the number of features. It\n",
    "    refers to the fact that algorithms are harder to design in high dimensions and often have a running time exponential in \n",
    "    the dimensions.\n"
   ]
  },
  {
   "cell_type": "code",
   "execution_count": null,
   "id": "b0f49518",
   "metadata": {},
   "outputs": [],
   "source": [
    "3. Tell if its possible to reverse the process of reducing the dimensionality of a dataset? If so, how can you go about doing \n",
    "it? If not, what is the reason ?\n",
    "\n",
    "Ans: No, dimensionality reduction is not reversible in general."
   ]
  },
  {
   "cell_type": "code",
   "execution_count": null,
   "id": "29c79185",
   "metadata": {},
   "outputs": [],
   "source": [
    "4. Can PCA be utilized to reduce the dimensionality of a nonlinear dataset with a lot of variables ?\n",
    "\n",
    "Ans: Well it Depends on dataset. If it is comprised of points that are perfectly aligned, PCA can reduce the dataset down to \n",
    "    1 dimension and preserve 95% of the variance."
   ]
  },
  {
   "cell_type": "code",
   "execution_count": null,
   "id": "32a3a782",
   "metadata": {},
   "outputs": [],
   "source": []
  },
  {
   "cell_type": "code",
   "execution_count": null,
   "id": "5ca056ed",
   "metadata": {},
   "outputs": [],
   "source": [
    "5. Assume you're running PCA on a 1,000-dimensional dataset with a 95 percent explained variance ratio. What is the number of\n",
    "dimensions that the resulting dataset would have ?\n",
    "\n",
    "Ans: If I perform PCA on a 1,000-dimensional dataset, setting the explained variance ratio to 95%. In this case roughly 950 \n",
    "    dimensions are required to preserve 95% of the variance. So the answer is, it depends on the dataset, and it could be any\n",
    "    number between 1 and 950."
   ]
  },
  {
   "cell_type": "code",
   "execution_count": null,
   "id": "2d5ff8ee",
   "metadata": {},
   "outputs": [],
   "source": [
    "6. Will you use vanilla PCA, incremental PCA, randomized PCA, or kernel PCA in which situations ?\n",
    "\n",
    "Ans: The following are the scenarios where the following are used:\n",
    "\n",
    "I. Vanilla PCA: the dataset fit in memory\n",
    "II. Incremental PCA: larget dataset that don't fit in memory, online taks\n",
    "III. Randomized PCA: considerably reduce dimensionality and the dataset fit the memory.\n",
    "IV. kernel PCA: used for nonlinear PCA"
   ]
  },
  {
   "cell_type": "code",
   "execution_count": null,
   "id": "0b760a1b",
   "metadata": {},
   "outputs": [],
   "source": [
    "7. How do you assess a dimensionality reduction algorithm's success on your dataset ?\n",
    "\n",
    "Ans: By doing PCA, it is a good choice for dimensionality reduction and visualization for datasets with a large number of\n",
    "    variables."
   ]
  },
  {
   "cell_type": "code",
   "execution_count": null,
   "id": "a0b086df",
   "metadata": {},
   "outputs": [],
   "source": [
    "8. Is it logical to use two different dimensionality reduction algorithms in a chain ?\n",
    "\n",
    "Ans: Indeed, it often make any sense to chain two different dimensionality reduction algorithms. A common example is using\n",
    "    PCA to quickly get rid of a large number of useless dimensions, then applying another much slower dimensionality reduction \n",
    "    algorithm, such as LLE."
   ]
  }
 ],
 "metadata": {
  "kernelspec": {
   "display_name": "Python 3 (ipykernel)",
   "language": "python",
   "name": "python3"
  },
  "language_info": {
   "codemirror_mode": {
    "name": "ipython",
    "version": 3
   },
   "file_extension": ".py",
   "mimetype": "text/x-python",
   "name": "python",
   "nbconvert_exporter": "python",
   "pygments_lexer": "ipython3",
   "version": "3.10.9"
  }
 },
 "nbformat": 4,
 "nbformat_minor": 5
}
